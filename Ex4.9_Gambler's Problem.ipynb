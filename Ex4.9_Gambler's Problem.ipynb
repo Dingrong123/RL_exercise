{
 "cells": [
  {
   "cell_type": "code",
   "execution_count": 43,
   "metadata": {},
   "outputs": [
    {
     "name": "stdout",
     "output_type": "stream",
     "text": [
      "Begin============\n",
      "Training in  1   period===\n",
      "Training in  2   period===\n",
      "Training in  3   period===\n",
      "Training in  4   period===\n",
      "Training in  5   period===\n",
      "Training in  6   period===\n",
      "Training in  7   period===\n",
      "Training in  8   period===\n",
      "Training in  9   period===\n",
      "Training in  10   period===\n",
      "Training in  11   period===\n",
      "Training in  12   period===\n",
      "Training in  13   period===\n",
      "Training in  14   period===\n",
      "Training in  15   period===\n",
      "Training in  16   period===\n",
      "Training in  17   period===\n",
      "Training in  18   period===\n"
     ]
    },
    {
     "data": {
      "image/png": "[encoded data removed]",
      "text/plain": [
       "<Figure size 432x288 with 1 Axes>"
      ]
     },
     "metadata": {},
     "output_type": "display_data"
    },
    {
     "data": {
      "image/png": "[encoded data removed]",
      "text/plain": [
       "<Figure size 432x288 with 1 Axes>"
      ]
     },
     "metadata": {},
     "output_type": "display_data"
    }
   ],
   "source": [
    "import numpy as np\n",
    "import math\n",
    "import matplotlib.pyplot as plt\n",
    "\n",
    "\n",
    "class Gambler:\n",
    "    def __init__(self):\n",
    "        self.valueMat=np.zeros(101)\n",
    "        self.policyMat=np.zeros(101)\n",
    "        self.prob=0.2\n",
    "        self.set=[]\n",
    "        \n",
    "    def initValue(self):\n",
    "        self.valueMat[0]=0\n",
    "        self.valueMat[100]=1\n",
    "        \n",
    "        \n",
    "    def valueIteration(self):\n",
    "        for i in range (1,100):\n",
    "            self.policyMat[i]=self.greedySearch(i)\n",
    "            a=self.policyMat[i]\n",
    "            a=int(a)\n",
    "            self.valueMat[i]=self.prob*self.valueMat[i+a]+(1-self.prob)*self.valueMat[i-a]\n",
    "    \n",
    "    def greedySearch(self,i):\n",
    "        maxValue=-100\n",
    "        maxAction=0\n",
    "        for a in range(1,min(i,100-i)+1):\n",
    "            v=self.prob*self.valueMat[i+a]+(1-self.prob)*self.valueMat[i-a]\n",
    "            if v>maxValue:\n",
    "                maxValue=v\n",
    "                maxAction=a\n",
    "        return maxAction\n",
    "    \n",
    "    def train(self):\n",
    "        print(\"Begin============\")\n",
    "        i=0\n",
    "        while True:\n",
    "            mat=np.copy(self.valueMat)\n",
    "            self.valueIteration()\n",
    "            i+=1\n",
    "            print('Training in ',i, '  period===')\n",
    "            if i==1 or i==2 or i==3 or i==32:\n",
    "                self.set.append(self.valueMat.copy())\n",
    "            tot=np.sum(self.valueMat-mat)\n",
    "            if tot<0.000000000001:\n",
    "                break\n",
    "        self.set.append(self.valueMat)\n",
    "        \n",
    "        \n",
    "    def printValue(self):\n",
    "        \n",
    "        fig=plt.figure()\n",
    "        plt.plot()\n",
    "        count=np.arange(0,101)\n",
    "        colorset=['red','blue','yellow','green','grey','orange']\n",
    "        for i, po in enumerate(self.set):\n",
    "            plt.plot(count,po,c=colorset[i])\n",
    "        plt.show()\n",
    "    \n",
    "    def printPolicy(self):\n",
    "        fig=plt.figure()\n",
    "        plt.plot()\n",
    "        count=np.arange(0,101)\n",
    "        plt.scatter(count,self.policyMat,c='black',alpha=0.5)\n",
    "        plt.show()\n",
    "        \n",
    "        \n",
    "Gambler_Me=Gambler()\n",
    "Gambler_Me.initValue()\n",
    "Gambler_Me.train()\n",
    "Gambler_Me.printValue()\n",
    "Gambler_Me.printPolicy()\n",
    "                \n",
    "            \n",
    "    \n",
    "            \n",
    "                \n",
    "            "
   ]
  },
  {
   "cell_type": "code",
   "execution_count": null,
   "metadata": {},
   "outputs": [],
   "source": []
  }
 ],
 "metadata": {
  "kernelspec": {
   "display_name": "Python 3",
   "language": "python",
   "name": "python3"
  },
  "language_info": {
   "codemirror_mode": {
    "name": "ipython",
    "version": 3
   },
   "file_extension": ".py",
   "mimetype": "text/x-python",
   "name": "python",
   "nbconvert_exporter": "python",
   "pygments_lexer": "ipython3",
   "version": "3.6.5"
  }
 },
 "nbformat": 4,
 "nbformat_minor": 2
}
