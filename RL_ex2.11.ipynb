{
 "cells": [
  {
   "cell_type": "code",
   "execution_count": 25,
   "metadata": {},
   "outputs": [
    {
     "name": "stdout",
     "output_type": "stream",
     "text": [
      "1.0\n",
      "0.5\n",
      "0.25\n",
      "0.125\n",
      "0.0625\n",
      "0.03125\n",
      "0.015625\n",
      "0.0078125\n",
      "0.00390625\n",
      "0.001953125\n",
      "[-0.03475930375834296, 0.8021503420393826, 1.119058156680518, 1.2247821306235331, 1.2916175439000452, 1.4697534300279382, 1.386546598809395, 1.5285793794660145, 1.4543421945794186, 1.453595535085808]\n"
     ]
    }
   ],
   "source": [
    "import random\n",
    "import math\n",
    "import matplotlib.pyplot as plt \n",
    "def findmax(record3):\n",
    "    idx=0\n",
    "    maxnum=-10000\n",
    "    for i in range(10):\n",
    "        if record3[i]>maxnum:\n",
    "            idx=i\n",
    "            maxnum=record3[i]\n",
    "    return idx\n",
    "        \n",
    "var=1\n",
    "maxidx=0\n",
    "a=[1.3,-1.3,1.4,-1.4,1.5,-1.5,0.6,-0.6,0.7,-0.7]\n",
    "record=[0,0,0,0,0,0,0,0,0,0]\n",
    "record1=[2,2,2,2,2,2,2,2,2,2]\n",
    "record2=[0,0,0,0,0,0,0,0,0,0]\n",
    "record3=[1,1,1,1,1,1,1,1,1,1]\n",
    "alpha=0.1\n",
    "\n",
    "    \n",
    "for o in range(1):\n",
    "  for p in range(10):\n",
    "     i=1/math.pow(2,p)\n",
    "     print(i)\n",
    "     for t in range (100):\n",
    "         for pi in range(10):\n",
    "           a[pi]=random.normalvariate(0,1)\n",
    "         for j in range(1000):\n",
    "            rand_judge=random.uniform(0,1)\n",
    "            if rand_judge<i:\n",
    "                b=random.randint(0,9)\n",
    "                idx=b\n",
    "            else:\n",
    "                idx=findmax(record3)\n",
    "            q1=random.normalvariate(a[idx],1)\n",
    "            record[p]+=q1\n",
    "            #if(i<0.2):\n",
    "              #print (a[idx],record3)\n",
    "            record3[idx]=(record3[idx]+alpha*q1)*(1-alpha)\n",
    "            for ii in range(10):\n",
    "             a[ii]+=random.normalvariate(0,0.01)\n",
    "         for i2 in range(10):\n",
    "             record3[i2]=1\n",
    "for p2 in range(10):\n",
    "    record[p2]/=100000\n",
    "print (record)"
   ]
  },
  {
   "cell_type": "code",
   "execution_count": 26,
   "metadata": {},
   "outputs": [
    {
     "name": "stderr",
     "output_type": "stream",
     "text": [
      "No handles with labels found to put in legend.\n"
     ]
    },
    {
     "data": {
      "image/png": "[encoded data removed]",
      "text/plain": [
       "<Figure size 432x288 with 1 Axes>"
      ]
     },
     "metadata": {},
     "output_type": "display_data"
    }
   ],
   "source": [
    "names=['1','0.5','0.25','0.125','0.0625','0.03125','0.015625','0.0078125','0.00390625','0.001953125']\n",
    "x=range(len(names))\n",
    "ys=[1,1,1,1,1,1,1,1,1,1]\n",
    "for i in range(10):\n",
    "    ys[i]=record[i]\n",
    "plt.plot(x, ys, marker='*', ms=10)\n",
    "plt.xlim(-1, 11)\n",
    "plt.ylim(-1, 2)\n",
    "plt.legend()\n",
    "plt.xticks(x, names, rotation=45)\n",
    "plt.margins(0)\n",
    "plt.subplots_adjust(bottom=0.15)\n",
    "plt.xlabel(\"value of e\") #X轴标签\n",
    "plt.ylabel(\"average reward per step\") #Y轴标签\n",
    "plt.title(\"Ex 2.11\") #标题\n",
    "\n",
    "plt.show()"
   ]
  },
  {
   "cell_type": "code",
   "execution_count": null,
   "metadata": {},
   "outputs": [],
   "source": []
  }
 ],
 "metadata": {
  "kernelspec": {
   "display_name": "Python 3",
   "language": "python",
   "name": "python3"
  },
  "language_info": {
   "codemirror_mode": {
    "name": "ipython",
    "version": 3
   },
   "file_extension": ".py",
   "mimetype": "text/x-python",
   "name": "python",
   "nbconvert_exporter": "python",
   "pygments_lexer": "ipython3",
   "version": "3.6.5"
  }
 },
 "nbformat": 4,
 "nbformat_minor": 2
}
